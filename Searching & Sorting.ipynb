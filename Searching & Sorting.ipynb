{
 "cells": [
  {
   "cell_type": "markdown",
   "id": "6a0254a1",
   "metadata": {},
   "source": [
    "# Binary Search"
   ]
  },
  {
   "cell_type": "code",
   "execution_count": 1,
   "id": "4a44e708",
   "metadata": {},
   "outputs": [],
   "source": [
    "# where arr is an array , n is a size of an array & x is a the number which we have to look in that list."
   ]
  },
  {
   "cell_type": "code",
   "execution_count": 10,
   "id": "8608fe15",
   "metadata": {},
   "outputs": [
    {
     "name": "stdout",
     "output_type": "stream",
     "text": [
      "10\n",
      "1 2 2 16\n"
     ]
    }
   ],
   "source": [
    "def Binary(arr,n) :\n",
    "    a = len(arr)\n",
    "    start = arr[0]\n",
    "    end = arr[-1]\n",
    "    mid = start+end//2\n",
    "    print(mid)\n",
    "    print('1',start,'2',end)\n",
    "\n",
    "arr = [2,4,6,8,10,12,14,16]\n",
    "n = 8\n",
    "Binary(arr,n)"
   ]
  },
  {
   "cell_type": "code",
   "execution_count": 14,
   "id": "aa4ad317",
   "metadata": {},
   "outputs": [
    {
     "ename": "TypeError",
     "evalue": "'list' object is not callable",
     "output_type": "error",
     "traceback": [
      "\u001b[1;31m---------------------------------------------------------------------------\u001b[0m",
      "\u001b[1;31mTypeError\u001b[0m                                 Traceback (most recent call last)",
      "\u001b[1;32m<ipython-input-14-43ed9a79f069>\u001b[0m in \u001b[0;36m<module>\u001b[1;34m\u001b[0m\n\u001b[0;32m     11\u001b[0m \u001b[0marr\u001b[0m \u001b[1;33m=\u001b[0m \u001b[1;33m[\u001b[0m\u001b[1;36m2\u001b[0m\u001b[1;33m,\u001b[0m\u001b[1;36m4\u001b[0m\u001b[1;33m,\u001b[0m\u001b[1;36m6\u001b[0m\u001b[1;33m,\u001b[0m\u001b[1;36m8\u001b[0m\u001b[1;33m,\u001b[0m\u001b[1;36m10\u001b[0m\u001b[1;33m,\u001b[0m\u001b[1;36m12\u001b[0m\u001b[1;33m,\u001b[0m\u001b[1;36m14\u001b[0m\u001b[1;33m,\u001b[0m\u001b[1;36m16\u001b[0m\u001b[1;33m]\u001b[0m\u001b[1;33m\u001b[0m\u001b[1;33m\u001b[0m\u001b[0m\n\u001b[0;32m     12\u001b[0m \u001b[0mn\u001b[0m \u001b[1;33m=\u001b[0m \u001b[1;36m8\u001b[0m\u001b[1;33m\u001b[0m\u001b[1;33m\u001b[0m\u001b[0m\n\u001b[1;32m---> 13\u001b[1;33m \u001b[0mBinary\u001b[0m\u001b[1;33m(\u001b[0m\u001b[0marr\u001b[0m\u001b[1;33m,\u001b[0m\u001b[0mn\u001b[0m\u001b[1;33m)\u001b[0m\u001b[1;33m\u001b[0m\u001b[1;33m\u001b[0m\u001b[0m\n\u001b[0m",
      "\u001b[1;32m<ipython-input-14-43ed9a79f069>\u001b[0m in \u001b[0;36mBinary\u001b[1;34m(arr, n)\u001b[0m\n\u001b[0;32m      6\u001b[0m     \u001b[1;31m#print(mid)\u001b[0m\u001b[1;33m\u001b[0m\u001b[1;33m\u001b[0m\u001b[1;33m\u001b[0m\u001b[0m\n\u001b[0;32m      7\u001b[0m     \u001b[1;31m#print('1',start,'2',end)\u001b[0m\u001b[1;33m\u001b[0m\u001b[1;33m\u001b[0m\u001b[1;33m\u001b[0m\u001b[0m\n\u001b[1;32m----> 8\u001b[1;33m     \u001b[1;32mfor\u001b[0m \u001b[0mi\u001b[0m \u001b[1;32min\u001b[0m \u001b[0marr\u001b[0m \u001b[1;33m(\u001b[0m\u001b[0mstart\u001b[0m\u001b[1;33m,\u001b[0m\u001b[0mend\u001b[0m\u001b[1;33m+\u001b[0m\u001b[1;36m1\u001b[0m\u001b[1;33m)\u001b[0m\u001b[1;33m:\u001b[0m\u001b[1;33m\u001b[0m\u001b[1;33m\u001b[0m\u001b[0m\n\u001b[0m\u001b[0;32m      9\u001b[0m         \u001b[0mprint\u001b[0m\u001b[1;33m(\u001b[0m\u001b[0mi\u001b[0m\u001b[1;33m)\u001b[0m\u001b[1;33m\u001b[0m\u001b[1;33m\u001b[0m\u001b[0m\n\u001b[0;32m     10\u001b[0m \u001b[1;33m\u001b[0m\u001b[0m\n",
      "\u001b[1;31mTypeError\u001b[0m: 'list' object is not callable"
     ]
    }
   ],
   "source": [
    "def Binary(arr,n) :\n",
    "    \n",
    "    start = arr[0]\n",
    "    end = arr[-1]\n",
    "    mid = start+end//2\n",
    "    #print(mid)\n",
    "    #print('1',start,'2',end)\n",
    "    for i in arr (start,end+1):\n",
    "        print(i)\n",
    "\n",
    "arr = [2,4,6,8,10,12,14,16]\n",
    "n = 8\n",
    "Binary(arr,n)\n"
   ]
  },
  {
   "cell_type": "code",
   "execution_count": 21,
   "id": "052102d1",
   "metadata": {},
   "outputs": [
    {
     "data": {
      "text/plain": [
       "'Element Not found'"
      ]
     },
     "execution_count": 21,
     "metadata": {},
     "output_type": "execute_result"
    }
   ],
   "source": [
    "def Binary (arr,n,x):\n",
    "    start = 0\n",
    "    end = n-1\n",
    "    while start<= end:\n",
    "        mid = (start+end)//2\n",
    "        \n",
    "        if arr[mid]== x:\n",
    "            return mid \n",
    "        elif arr[mid]<x:\n",
    "            start = mid+1\n",
    "        \n",
    "        else:\n",
    "            end = mid -1\n",
    "            \n",
    "    return ('Element Not found')\n",
    "\n",
    "\n",
    "\n",
    "n = 7\n",
    "arr = [1, 3, 7, 9, 11, 12, 45]\n",
    "x = 10\n",
    "Binary(arr,n,x)\n",
    "            \n",
    "            "
   ]
  },
  {
   "cell_type": "markdown",
   "id": "32ba9125",
   "metadata": {},
   "source": [
    "# Selection sort :"
   ]
  },
  {
   "cell_type": "code",
   "execution_count": 1,
   "id": "2d25ef90",
   "metadata": {},
   "outputs": [],
   "source": [
    "# sorting the array\n",
    "# arr = [5,2,10,8,3]\n",
    "# we take n-1 round "
   ]
  },
  {
   "cell_type": "code",
   "execution_count": 27,
   "id": "8f15584c",
   "metadata": {
    "collapsed": true
   },
   "outputs": [
    {
     "name": "stdout",
     "output_type": "stream",
     "text": [
      "5\n",
      "2\n",
      "10\n",
      "8\n",
      "3\n"
     ]
    }
   ],
   "source": [
    "'''\n",
    "arr = [5,2,10,8,3]\n",
    "leng = len(arr)\n",
    "for i in range(leng):#(-1)\n",
    "    print(arr[i])\n",
    "#arr(len) = 5\n",
    "\n",
    "'''\n",
    "\n",
    "\n"
   ]
  },
  {
   "cell_type": "code",
   "execution_count": 30,
   "id": "d052939c",
   "metadata": {},
   "outputs": [
    {
     "data": {
      "text/plain": [
       "[2, 3, 5, 8, 10]"
      ]
     },
     "execution_count": 30,
     "metadata": {},
     "output_type": "execute_result"
    }
   ],
   "source": [
    "def selectionSort(arr):\n",
    "    leng = len(arr)\n",
    "    for i in range (leng-1):\n",
    "        minIndex = i \n",
    "        # calculating the index of minimum element for the iteration \n",
    "        for j in range (i+1,leng):\n",
    "            if arr[j]<arr[minIndex]:\n",
    "                minIndex = j\n",
    "        # for swapping:-\n",
    "        arr[i],arr[minIndex]=arr[minIndex],arr[i]\n",
    "             \n",
    "            \n",
    "            \n",
    "        \n",
    "    return arr\n",
    "\n",
    "arr = [5,2,10,8,3]\n",
    "selectionSort(arr)\n",
    "    "
   ]
  },
  {
   "cell_type": "markdown",
   "id": "9fa20ad9",
   "metadata": {},
   "source": [
    "# Bubble Sort :"
   ]
  },
  {
   "cell_type": "code",
   "execution_count": null,
   "id": "3bde5407",
   "metadata": {},
   "outputs": [],
   "source": [
    "# if arr has 6 elment the round iterable is n-1# possition:-\n",
    "# In terms of elements - n\n",
    "# In terms of poss - n-1\n",
    "# possition:-\n",
    "# In terms of elements - n\n",
    "# In terms of poss - n-1"
   ]
  },
  {
   "cell_type": "code",
   "execution_count": 3,
   "id": "d6d70cc0",
   "metadata": {},
   "outputs": [
    {
     "data": {
      "text/plain": [
       "[2, 4, 6, 8, 8, 10, 12, 14]"
      ]
     },
     "execution_count": 3,
     "metadata": {},
     "output_type": "execute_result"
    }
   ],
   "source": [
    "def Bubble(arr):\n",
    "    leng = len(arr)\n",
    "    # i is for n-1 rounds \n",
    "    # j is for iteration u need to till length -1 - i\n",
    "    for i in range (leng-1):\n",
    "        for j in range (leng-1-i):\n",
    "            if arr[j]>arr[j+1]:\n",
    "                arr[j],arr[j+1] = arr[j+1], arr[j]\n",
    "                \n",
    "                \n",
    "    return arr\n",
    "                \n",
    "                \n",
    "arr = [8,2,4,10,6,12,8,14]\n",
    "Bubble(arr)\n",
    "                "
   ]
  },
  {
   "cell_type": "markdown",
   "id": "77ba8499",
   "metadata": {},
   "source": [
    "# InsertionSort:"
   ]
  },
  {
   "cell_type": "code",
   "execution_count": 4,
   "id": "cc5c4787",
   "metadata": {},
   "outputs": [],
   "source": [
    "# in this we divide the array into two one is sorted and one is unsorted \n",
    "# we pick one element form unsorted and add to sorted one by check"
   ]
  },
  {
   "cell_type": "code",
   "execution_count": 10,
   "id": "b3faf5c1",
   "metadata": {},
   "outputs": [
    {
     "name": "stdout",
     "output_type": "stream",
     "text": [
      "[2, 4, 6, 8, 10]\n"
     ]
    }
   ],
   "source": [
    "def InsertionSort (arr,n):\n",
    "    for i in range (1,n):\n",
    "        j = i-1\n",
    "        temp = arr[i]\n",
    "        while(j>0 and arr[j]>temp):\n",
    "            arr[j+1] = arr[j]\n",
    "            j = j-1\n",
    "            arr[j+1] = temp\n",
    "            \n",
    "arr = [2,10,8,4,6]\n",
    "n = 5\n",
    "InsertionSort(arr,n)\n",
    "print(arr)"
   ]
  },
  {
   "cell_type": "markdown",
   "id": "5fe212c5",
   "metadata": {},
   "source": [
    "# MergeTwoSortedArrays:"
   ]
  },
  {
   "cell_type": "code",
   "execution_count": 4,
   "id": "892dec98",
   "metadata": {},
   "outputs": [
    {
     "ename": "TypeError",
     "evalue": "'bool' object is not callable",
     "output_type": "error",
     "traceback": [
      "\u001b[1;31m---------------------------------------------------------------------------\u001b[0m",
      "\u001b[1;31mTypeError\u001b[0m                                 Traceback (most recent call last)",
      "\u001b[1;32m<ipython-input-4-384c46805c16>\u001b[0m in \u001b[0;36m<module>\u001b[1;34m\u001b[0m\n\u001b[0;32m     29\u001b[0m \u001b[0mn\u001b[0m \u001b[1;33m=\u001b[0m \u001b[1;36m4\u001b[0m\u001b[1;33m\u001b[0m\u001b[1;33m\u001b[0m\u001b[0m\n\u001b[0;32m     30\u001b[0m \u001b[0mm\u001b[0m  \u001b[1;33m=\u001b[0m \u001b[1;36m5\u001b[0m\u001b[1;33m\u001b[0m\u001b[1;33m\u001b[0m\u001b[0m\n\u001b[1;32m---> 31\u001b[1;33m \u001b[0marr\u001b[0m \u001b[1;33m=\u001b[0m \u001b[0mmerge\u001b[0m\u001b[1;33m(\u001b[0m\u001b[0marr1\u001b[0m\u001b[1;33m,\u001b[0m\u001b[0mn\u001b[0m\u001b[1;33m,\u001b[0m\u001b[0marr2\u001b[0m\u001b[1;33m,\u001b[0m\u001b[0mm\u001b[0m\u001b[1;33m)\u001b[0m\u001b[1;33m\u001b[0m\u001b[1;33m\u001b[0m\u001b[0m\n\u001b[0m",
      "\u001b[1;32m<ipython-input-4-384c46805c16>\u001b[0m in \u001b[0;36mmerge\u001b[1;34m(arr1, n, arr2, m)\u001b[0m\n\u001b[0;32m      7\u001b[0m \u001b[1;33m\u001b[0m\u001b[0m\n\u001b[0;32m      8\u001b[0m     \u001b[0marr\u001b[0m \u001b[1;33m=\u001b[0m \u001b[1;33m[\u001b[0m\u001b[1;33m]\u001b[0m\u001b[1;33m\u001b[0m\u001b[1;33m\u001b[0m\u001b[0m\n\u001b[1;32m----> 9\u001b[1;33m     \u001b[1;32mwhile\u001b[0m \u001b[1;33m(\u001b[0m\u001b[1;33m(\u001b[0m\u001b[0mi\u001b[0m \u001b[1;33m<\u001b[0m\u001b[0mlen1\u001b[0m\u001b[1;33m)\u001b[0m \u001b[1;33m(\u001b[0m\u001b[0mj\u001b[0m\u001b[1;33m<\u001b[0m\u001b[0mlen2\u001b[0m\u001b[1;33m)\u001b[0m\u001b[1;33m)\u001b[0m\u001b[1;33m:\u001b[0m\u001b[1;33m\u001b[0m\u001b[1;33m\u001b[0m\u001b[0m\n\u001b[0m\u001b[0;32m     10\u001b[0m         \u001b[1;32mif\u001b[0m \u001b[0marr1\u001b[0m\u001b[1;33m[\u001b[0m\u001b[0mi\u001b[0m\u001b[1;33m]\u001b[0m\u001b[1;33m<\u001b[0m\u001b[0marr2\u001b[0m\u001b[1;33m[\u001b[0m\u001b[0mj\u001b[0m\u001b[1;33m]\u001b[0m\u001b[1;33m:\u001b[0m\u001b[1;33m\u001b[0m\u001b[1;33m\u001b[0m\u001b[0m\n\u001b[0;32m     11\u001b[0m             \u001b[0marr\u001b[0m\u001b[1;33m.\u001b[0m\u001b[0mappend\u001b[0m\u001b[1;33m(\u001b[0m\u001b[0marr1\u001b[0m\u001b[1;33m[\u001b[0m\u001b[0mi\u001b[0m\u001b[1;33m]\u001b[0m\u001b[1;33m)\u001b[0m\u001b[1;33m\u001b[0m\u001b[1;33m\u001b[0m\u001b[0m\n",
      "\u001b[1;31mTypeError\u001b[0m: 'bool' object is not callable"
     ]
    }
   ],
   "source": [
    "def merge(arr1, n, arr2, m) : \n",
    "    i = 0\n",
    "    j = 0\n",
    "    \n",
    "    len1 = n\n",
    "    len2 = m\n",
    "    \n",
    "    arr = []\n",
    "    while ((i <len1) (j<len2)):\n",
    "        if arr1[i]<arr2[j]:\n",
    "            arr.append(arr1[i])\n",
    "            i = i+1\n",
    "        else:\n",
    "            arr.append(arr2[j])\n",
    "            j = j+1\n",
    "            \n",
    "    while (i<len1):\n",
    "        arr.append(arr[i])\n",
    "        i = i+1\n",
    "        \n",
    "    while (i<len1):\n",
    "        arr.append(arr[j])\n",
    "        j = j+1\n",
    "        \n",
    "    return arr\n",
    "\n",
    "arr1 = [1,4,9,10]\n",
    "arr2 = [2,3,6,7,8]\n",
    "n = 4\n",
    "m  = 5\n",
    "arr = merge(arr1,n,arr2,m)\n"
   ]
  },
  {
   "cell_type": "code",
   "execution_count": 1,
   "id": "1fa0bb25",
   "metadata": {},
   "outputs": [],
   "source": [
    "# Push zeroes to end:\n",
    "# arr = [1,0,2,0,3,0]\n",
    "n = 6"
   ]
  },
  {
   "cell_type": "code",
   "execution_count": 6,
   "id": "02e1c113",
   "metadata": {},
   "outputs": [
    {
     "name": "stdout",
     "output_type": "stream",
     "text": [
      "1\n",
      "2\n",
      "3\n"
     ]
    }
   ],
   "source": [
    "def zeroes(arr,n):\n",
    "    for i in range (n):\n",
    "        if arr[i]!=0:\n",
    "            temp = arr[i]\n",
    "            \n",
    "            \n",
    "arr = [1,0,2,0,3,0]\n",
    "n = 6\n",
    "zeroes(arr,n)\n",
    "        "
   ]
  },
  {
   "cell_type": "code",
   "execution_count": null,
   "id": "f9146d87",
   "metadata": {},
   "outputs": [],
   "source": [
    "def Zero(arr,n):\n",
    "    i = 0\n",
    "    p = 0\n",
    "    for i in range (n):\n",
    "        if arr[i]!= 0:\n",
    "            i = i+1\n",
    "        elif arr[i]==0:\n",
    "            k= k+1\n",
    "    \n",
    "            "
   ]
  },
  {
   "cell_type": "code",
   "execution_count": null,
   "id": "4376b749",
   "metadata": {},
   "outputs": [],
   "source": [
    "def pushZerosAtEnd(arr, n) :\n",
    "    count=0\n",
    "    for i in range(n):\n",
    "        if arr[i]!=0:\n",
    "            arr[count]=arr[i]\n",
    "            count+=1\n",
    "    while count<n:\n",
    "        arr[count]=0\n",
    "        count+=1\n",
    "    return arr"
   ]
  },
  {
   "cell_type": "code",
   "execution_count": 1,
   "id": "f02d3c89",
   "metadata": {},
   "outputs": [
    {
     "data": {
      "text/plain": [
       "[1, 2, 3, 0, 0, 0]"
      ]
     },
     "execution_count": 1,
     "metadata": {},
     "output_type": "execute_result"
    }
   ],
   "source": [
    "def pushZerosAtEnd(arr, n) :\n",
    "    count=0\n",
    "    for i in range(n):\n",
    "        if arr[i]!=0:\n",
    "            arr[count]=arr[i]\n",
    "            count+= 1\n",
    "    while count<n:\n",
    "        arr[count]= 0\n",
    "        count+= 1\n",
    "        \n",
    "    return arr\n",
    "            \n",
    "            \n",
    "arr = [1,0,2,0,3,0]\n",
    "n = 6\n",
    "pushZerosAtEnd(arr,n)\n",
    "        "
   ]
  },
  {
   "cell_type": "code",
   "execution_count": 3,
   "id": "bda9d789",
   "metadata": {},
   "outputs": [
    {
     "name": "stdout",
     "output_type": "stream",
     "text": [
      "1\n",
      "2\n",
      "3\n"
     ]
    }
   ],
   "source": []
  },
  {
   "cell_type": "code",
   "execution_count": 5,
   "id": "2b343ccd",
   "metadata": {},
   "outputs": [],
   "source": [
    "# Rotate Arry:"
   ]
  },
  {
   "cell_type": "code",
   "execution_count": 6,
   "id": "4ad28024",
   "metadata": {},
   "outputs": [
    {
     "name": "stdout",
     "output_type": "stream",
     "text": [
      "3\n",
      "1\n",
      "5\n",
      "9\n",
      "8\n"
     ]
    },
    {
     "ename": "IndexError",
     "evalue": "list index out of range",
     "output_type": "error",
     "traceback": [
      "\u001b[1;31m---------------------------------------------------------------------------\u001b[0m",
      "\u001b[1;31mIndexError\u001b[0m                                Traceback (most recent call last)",
      "\u001b[1;32m<ipython-input-6-0be09432a695>\u001b[0m in \u001b[0;36m<module>\u001b[1;34m\u001b[0m\n\u001b[0;32m      7\u001b[0m \u001b[0marr\u001b[0m \u001b[1;33m=\u001b[0m \u001b[1;33m[\u001b[0m\u001b[1;36m2\u001b[0m\u001b[1;33m,\u001b[0m\u001b[1;36m6\u001b[0m\u001b[1;33m,\u001b[0m\u001b[1;36m3\u001b[0m\u001b[1;33m,\u001b[0m\u001b[1;36m1\u001b[0m\u001b[1;33m,\u001b[0m\u001b[1;36m5\u001b[0m\u001b[1;33m,\u001b[0m\u001b[1;36m9\u001b[0m\u001b[1;33m,\u001b[0m\u001b[1;36m8\u001b[0m\u001b[1;33m]\u001b[0m\u001b[1;33m\u001b[0m\u001b[1;33m\u001b[0m\u001b[0m\n\u001b[0;32m      8\u001b[0m \u001b[0mn\u001b[0m \u001b[1;33m=\u001b[0m \u001b[1;36m7\u001b[0m\u001b[1;33m\u001b[0m\u001b[1;33m\u001b[0m\u001b[0m\n\u001b[1;32m----> 9\u001b[1;33m \u001b[0mrotate\u001b[0m\u001b[1;33m(\u001b[0m\u001b[0marr\u001b[0m\u001b[1;33m,\u001b[0m\u001b[0mn\u001b[0m\u001b[1;33m)\u001b[0m\u001b[1;33m\u001b[0m\u001b[1;33m\u001b[0m\u001b[0m\n\u001b[0m\u001b[0;32m     10\u001b[0m \u001b[1;33m\u001b[0m\u001b[0m\n",
      "\u001b[1;32m<ipython-input-6-0be09432a695>\u001b[0m in \u001b[0;36mrotate\u001b[1;34m(arr, n)\u001b[0m\n\u001b[0;32m      2\u001b[0m     \u001b[0mtemp\u001b[0m \u001b[1;33m=\u001b[0m \u001b[0marr\u001b[0m\u001b[1;33m[\u001b[0m\u001b[1;36m0\u001b[0m\u001b[1;33m]\u001b[0m\u001b[1;33m\u001b[0m\u001b[1;33m\u001b[0m\u001b[0m\n\u001b[0;32m      3\u001b[0m     \u001b[1;32mfor\u001b[0m \u001b[0mi\u001b[0m \u001b[1;32min\u001b[0m \u001b[0mrange\u001b[0m \u001b[1;33m(\u001b[0m\u001b[1;36m1\u001b[0m\u001b[1;33m,\u001b[0m\u001b[0mn\u001b[0m\u001b[1;33m)\u001b[0m\u001b[1;33m:\u001b[0m\u001b[1;33m\u001b[0m\u001b[1;33m\u001b[0m\u001b[0m\n\u001b[1;32m----> 4\u001b[1;33m         \u001b[0marr\u001b[0m\u001b[1;33m[\u001b[0m\u001b[0mi\u001b[0m\u001b[1;33m]\u001b[0m \u001b[1;33m=\u001b[0m \u001b[0marr\u001b[0m\u001b[1;33m[\u001b[0m\u001b[0mi\u001b[0m\u001b[1;33m+\u001b[0m\u001b[1;36m1\u001b[0m\u001b[1;33m]\u001b[0m\u001b[1;33m\u001b[0m\u001b[1;33m\u001b[0m\u001b[0m\n\u001b[0m\u001b[0;32m      5\u001b[0m         \u001b[0mprint\u001b[0m\u001b[1;33m(\u001b[0m\u001b[0marr\u001b[0m\u001b[1;33m[\u001b[0m\u001b[0mi\u001b[0m\u001b[1;33m]\u001b[0m\u001b[1;33m)\u001b[0m\u001b[1;33m\u001b[0m\u001b[1;33m\u001b[0m\u001b[0m\n\u001b[0;32m      6\u001b[0m \u001b[1;33m\u001b[0m\u001b[0m\n",
      "\u001b[1;31mIndexError\u001b[0m: list index out of range"
     ]
    }
   ],
   "source": [
    "def rotate(arr,n):\n",
    "    temp = arr[0]\n",
    "    for i in range (1,n):\n",
    "        arr[i] = arr[i+1]\n",
    "        \n",
    "        \n",
    "arr = [2,6,3,1,5,9,8]\n",
    "n = 7\n",
    "rotate(arr,n)\n",
    "        "
   ]
  },
  {
   "cell_type": "code",
   "execution_count": null,
   "id": "6b33f069",
   "metadata": {},
   "outputs": [],
   "source": []
  }
 ],
 "metadata": {
  "kernelspec": {
   "display_name": "Python 3",
   "language": "python",
   "name": "python3"
  },
  "language_info": {
   "codemirror_mode": {
    "name": "ipython",
    "version": 3
   },
   "file_extension": ".py",
   "mimetype": "text/x-python",
   "name": "python",
   "nbconvert_exporter": "python",
   "pygments_lexer": "ipython3",
   "version": "3.8.8"
  }
 },
 "nbformat": 4,
 "nbformat_minor": 5
}
